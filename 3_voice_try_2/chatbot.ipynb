{
 "cells": [
  {
   "cell_type": "markdown",
   "id": "0",
   "metadata": {},
   "source": [
    "## Importing Libraries"
   ]
  },
  {
   "cell_type": "code",
   "execution_count": null,
   "id": "1",
   "metadata": {},
   "outputs": [],
   "source": [
    "from langchain_ollama import OllamaLLM\n",
    "from langchain.prompts import ChatPromptTemplate, MessagesPlaceholder, SystemMessagePromptTemplate, HumanMessagePromptTemplate\n",
    "from langchain.memory import ConversationBufferMemory\n",
    "from langchain.memory.chat_message_histories.file import FileChatMessageHistory\n",
    "from langchain.chains import LLMChain"
   ]
  },
  {
   "cell_type": "markdown",
   "id": "2",
   "metadata": {},
   "source": [
    "## Setup"
   ]
  },
  {
   "cell_type": "code",
   "execution_count": null,
   "id": "3",
   "metadata": {},
   "outputs": [],
   "source": [
    "def get_llm():\n",
    "    return OllamaLLM(\n",
    "        model = \"gemma3n:e2b\",\n",
    "        temperature = 0.1,\n",
    "    )\n",
    "\n",
    "def get_chat_prompt_template():\n",
    "    return ChatPromptTemplate(\n",
    "        input_variables = [\"content\", \"messages\"],\n",
    "        messages = [\n",
    "            SystemMessagePromptTemplate.from_template(\"You are a helpful ai assistant. Try to answer to the best of your knowledge\"),\n",
    "            MessagesPlaceholder(variable_name=\"messages\"),\n",
    "            HumanMessagePromptTemplate.from_template(\"{content}\"),\n",
    "        ],\n",
    "    )\n",
    "\n",
    "def get_memory():\n",
    "    return ConversationBufferMemory(\n",
    "        memory_key=\"messages\",\n",
    "        chat_memory= FileChatMessageHistory(file_path=\"memory.json\"),\n",
    "        return_messages=True,\n",
    "        input_key=\"content\",\n",
    "    )\n",
    "\n"
   ]
  },
  {
   "cell_type": "markdown",
   "id": "4",
   "metadata": {},
   "source": [
    "## Creating a chain"
   ]
  },
  {
   "cell_type": "code",
   "execution_count": null,
   "id": "5",
   "metadata": {},
   "outputs": [],
   "source": [
    "def create_chain(llm, prompt):\n",
    "    return LLMChain(llm = llm, prompt = prompt, memory = get_memory())\n",
    "\n",
    "llm = get_llm()\n",
    "prompt = get_chat_prompt_template()\n",
    "chain = create_chain(llm, prompt)\n",
    "\n"
   ]
  },
  {
   "cell_type": "code",
   "execution_count": null,
   "id": "6",
   "metadata": {},
   "outputs": [],
   "source": [
    "print(\"Type your query (or 'q' to exit): \")\n",
    "while True:\n",
    "    question = input (\">>> \")\n",
    "    if question.lower() == 'q':\n",
    "        break\n",
    "    response = chain.invoke({'content': question})\n",
    "    print(response['text'] if isinstance(response, dict) else response )"
   ]
  },
  {
   "cell_type": "code",
   "execution_count": null,
   "id": "7",
   "metadata": {},
   "outputs": [],
   "source": []
  }
 ],
 "metadata": {
  "kernelspec": {
   "display_name": "my_env",
   "language": "python",
   "name": "python3"
  },
  "language_info": {
   "codemirror_mode": {
    "name": "ipython",
    "version": 3
   },
   "file_extension": ".py",
   "mimetype": "text/x-python",
   "name": "python",
   "nbconvert_exporter": "python",
   "pygments_lexer": "ipython3",
   "version": "3.12.0"
  }
 },
 "nbformat": 4,
 "nbformat_minor": 5
}
